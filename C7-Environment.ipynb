{
 "cells": [
  {
   "cell_type": "markdown",
   "metadata": {},
   "source": [
    "*Q1*"
   ]
  },
  {
   "cell_type": "code",
   "execution_count": null,
   "metadata": {},
   "outputs": [],
   "source": [
    "is.baseenv <- function(x) identical(x, baseenv())\n",
    "is.emptyenv <- function(x) identical(x, emptyenv())\n",
    "is.bsanstr <- function(x, env = parent.frame()) {\n",
    "    if (is.baseenv(env)) {\n",
    "        return(\"True\")\n",
    "    } else {\n",
    "        is.bsanstr(x, env = parent.env(env))\n",
    "    }    \n",
    "}\n",
    "is.eptanstr <- function(x, env = parent.frame()) {\n",
    "    if (is.emptyenv(env)) {\n",
    "        return(\"True\")\n",
    "    } else {\n",
    "        is.eptanstr(x, env = parent.env(env))\n",
    "    }\n",
    "}\n",
    "\n",
    "is.bsanstr(globalenv)\n",
    "is.eptanstr(globalenv)"
   ]
  },
  {
   "cell_type": "code",
   "execution_count": null,
   "metadata": {},
   "outputs": [],
   "source": [
    "srch.all <- function(env = parent.frame()) {\n",
    "    pkges <- vector(mode = \"character\")\n",
    "    while (!identical(env, emptyenv())) {\n",
    "        pkges <- rbind(pkges, environmentName(env))\n",
    "        srch.all(env = parent.env(env))\n",
    "    } \n",
    "    pkges\n",
    "}\n",
    "srch.all()"
   ]
  },
  {
   "cell_type": "markdown",
   "metadata": {},
   "source": [
    "*Q2*"
   ]
  },
  {
   "cell_type": "code",
   "execution_count": null,
   "metadata": {},
   "outputs": [],
   "source": [
    "ray.get <- function(name, en, env = parent.frame()) {\n",
    "    stopifnot(is.character(name), is.environment(en), length(name) == 1)\n",
    "    if (identical(env, emptyenv())) {\n",
    "        stop(\"Can't find \", name, call. = FALSE)\n",
    "    }\n",
    "    if (exists(name, en, inherits = FALSE)) {\n",
    "        eval(parse(text = name))\n",
    "    } else {\n",
    "        ray.get(name, parent.env(en))\n",
    "    }\n",
    "}\n",
    "ray.get(\"b\", globalenv())"
   ]
  },
  {
   "cell_type": "markdown",
   "metadata": {},
   "source": [
    "*Q3*"
   ]
  },
  {
   "cell_type": "code",
   "execution_count": null,
   "metadata": {},
   "outputs": [],
   "source": [
    "fget <- function(name, en, env = parent.frame(), inherits = TRUE) {\n",
    "    stopifnot(is.character(name), is.environment(en), length(name) == 1)\n",
    "    if (identical(env, emptyenv())) {\n",
    "        stop(\"Can't find \", name, call. = FALSE)\n",
    "    }\n",
    "    if (exists(name, en, inherits = inherits)) {\n",
    "        if (is.function(eval(parse(text = name)))) {\n",
    "            eval(parse(text = name))\n",
    "        } \n",
    "        else {\n",
    "            fget(name, parent.env(en))\n",
    "        }\n",
    "    } else {\n",
    "        fget(name, parent.env(en))\n",
    "    }\n",
    "}\n",
    "fget(\"get\", baseenv())"
   ]
  },
  {
   "cell_type": "markdown",
   "metadata": {},
   "source": [
    "*Q4*"
   ]
  },
  {
   "cell_type": "code",
   "execution_count": null,
   "metadata": {},
   "outputs": [],
   "source": [
    "ray.exists <- function(name, env) {\n",
    "    stopifnot(is.character(name), is.environment(env), length(name) == 1)\n",
    "    if (identical(env, emptyenv())) {\n",
    "        stop(\"Can't find\", name, call. = FALSE)\n",
    "    }\n",
    "    if (name %in% ls(envir = env)) {\n",
    "        TRUE\n",
    "    } else {\n",
    "        FALSE\n",
    "    }\n",
    "}\n",
    "ray.exists(\"b\", baseenv())"
   ]
  }
 ],
 "metadata": {
  "kernelspec": {
   "display_name": "R",
   "language": "R",
   "name": "ir"
  },
  "language_info": {
   "codemirror_mode": "r",
   "file_extension": ".r",
   "mimetype": "text/x-r-source",
   "name": "R",
   "pygments_lexer": "r",
   "version": "3.5.1"
  }
 },
 "nbformat": 4,
 "nbformat_minor": 2
}
