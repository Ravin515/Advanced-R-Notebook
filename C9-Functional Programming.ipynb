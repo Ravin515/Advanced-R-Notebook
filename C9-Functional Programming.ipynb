{
 "cells": [
  {
   "cell_type": "markdown",
   "metadata": {},
   "source": [
    "Functional Programming"
   ]
  },
  {
   "cell_type": "code",
   "execution_count": 5,
   "metadata": {},
   "outputs": [],
   "source": [
    "lapply(mtcars, function(x) mean(x)/sd(x))      "
   ]
  },
  {
   "cell_type": "code",
   "execution_count": 8,
   "metadata": {},
   "outputs": [
    {
     "data": {
      "text/plain": [
       "283.3333 with absolute error < 3.1e-12"
      ]
     },
     "metadata": {},
     "output_type": "display_data"
    },
    {
     "data": {
      "text/plain": [
       "2.615901e-16 with absolute error < 6.3e-14"
      ]
     },
     "metadata": {},
     "output_type": "display_data"
    },
    {
     "data": {
      "text/plain": [
       "25613160 with absolute error < 2.8e-07"
      ]
     },
     "metadata": {},
     "output_type": "display_data"
    }
   ],
   "source": [
    "integrate(function(x) x^2-x, 0, 10)\n",
    "integrate(function(x) sin(x)+cos(x), -pi, pi)\n",
    "integrate(function(x) exp(x)/x, 10, 20)"
   ]
  },
  {
   "cell_type": "code",
   "execution_count": 10,
   "metadata": {},
   "outputs": [
    {
     "data": {
      "text/html": [
       "<strong>$exponent</strong> = 2"
      ],
      "text/latex": [
       "\\textbf{\\$exponent} = 2"
      ],
      "text/markdown": [
       "**$exponent** = 2"
      ],
      "text/plain": [
       "$exponent\n",
       "[1] 2\n"
      ]
     },
     "metadata": {},
     "output_type": "display_data"
    },
    {
     "data": {
      "text/html": [
       "<strong>$exponent</strong> = 3"
      ],
      "text/latex": [
       "\\textbf{\\$exponent} = 3"
      ],
      "text/markdown": [
       "**$exponent** = 3"
      ],
      "text/plain": [
       "$exponent\n",
       "[1] 3\n"
      ]
     },
     "metadata": {},
     "output_type": "display_data"
    }
   ],
   "source": [
    "power <- function(exponent){\n",
    "    function(x) x^exponent\n",
    "}\n",
    "square <- power(2)\n",
    "cube <- power(3)\n",
    "as.list(environment(square))\n",
    "as.list(environment(cube))"
   ]
  },
  {
   "cell_type": "code",
   "execution_count": 14,
   "metadata": {},
   "outputs": [
    {
     "data": {
      "text/html": [
       "<pre class=language-r><code>function (x) \n",
       "x^2</code></pre>"
      ],
      "text/latex": [
       "\\begin{minted}{r}\n",
       "function (x) \n",
       "x\\textasciicircum{}2\n",
       "\\end{minted}"
      ],
      "text/markdown": [
       "```r\n",
       "function (x) \n",
       "x^2\n",
       "```"
      ],
      "text/plain": [
       "function (x) \n",
       "x^2"
      ]
     },
     "metadata": {},
     "output_type": "display_data"
    },
    {
     "data": {
      "text/html": [
       "<pre class=language-r><code>function (x) \n",
       "x^3</code></pre>"
      ],
      "text/latex": [
       "\\begin{minted}{r}\n",
       "function (x) \n",
       "x\\textasciicircum{}3\n",
       "\\end{minted}"
      ],
      "text/markdown": [
       "```r\n",
       "function (x) \n",
       "x^3\n",
       "```"
      ],
      "text/plain": [
       "function (x) \n",
       "x^3"
      ]
     },
     "metadata": {},
     "output_type": "display_data"
    }
   ],
   "source": [
    "library(pryr)\n",
    "unenclose(square)\n",
    "unenclose(cube)"
   ]
  },
  {
   "cell_type": "code",
   "execution_count": 19,
   "metadata": {},
   "outputs": [
    {
     "name": "stdout",
     "output_type": "stream",
     "text": [
      "<environment: 0x000000001401af40>\n"
     ]
    },
    {
     "data": {
      "text/plain": [
       "<environment: 0x000000001401af40>"
      ]
     },
     "metadata": {},
     "output_type": "display_data"
    }
   ],
   "source": [
    "power <- function(exponent) { \n",
    "    print(environment()) \n",
    "    function(x) x ^ exponent\n",
    "}\n",
    "zero <- power(0) \n",
    "environment(zero)"
   ]
  },
  {
   "cell_type": "code",
   "execution_count": 16,
   "metadata": {},
   "outputs": [
    {
     "data": {
      "text/html": [
       "1"
      ],
      "text/latex": [
       "1"
      ],
      "text/markdown": [
       "1"
      ],
      "text/plain": [
       "[1] 1"
      ]
     },
     "metadata": {},
     "output_type": "display_data"
    },
    {
     "data": {
      "text/html": [
       "<pre class=language-r><code>function () \n",
       "{\n",
       "<span style=white-space:pre-wrap>    i &lt;&lt;- i + 1</span>\n",
       "<span style=white-space:pre-wrap>    i</span>\n",
       "}</code></pre>"
      ],
      "text/latex": [
       "\\begin{minted}{r}\n",
       "function () \n",
       "\\{\n",
       "    i <<- i + 1\n",
       "    i\n",
       "\\}\n",
       "\\end{minted}"
      ],
      "text/markdown": [
       "```r\n",
       "function () \n",
       "{\n",
       "    i <<- i + 1\n",
       "    i\n",
       "}\n",
       "```"
      ],
      "text/plain": [
       "function() { \n",
       "        i <<- i + 1\n",
       "        i\n",
       "    }\n",
       "<environment: 0x0000000005f0eeb0>"
      ]
     },
     "metadata": {},
     "output_type": "display_data"
    }
   ],
   "source": [
    "i <- 0\n",
    "new_counter2 <- function() { \n",
    "    i <<- i + 1 \n",
    "    i\n",
    "}\n",
    "new_counter2()"
   ]
  },
  {
   "cell_type": "code",
   "execution_count": 44,
   "metadata": {},
   "outputs": [
    {
     "data": {
      "text/html": [
       "1"
      ],
      "text/latex": [
       "1"
      ],
      "text/markdown": [
       "1"
      ],
      "text/plain": [
       "[1] 1"
      ]
     },
     "metadata": {},
     "output_type": "display_data"
    }
   ],
   "source": [
    "new_counter3 <- function() { \n",
    "    i <- 0\n",
    "    function() { \n",
    "        i <- i + 1\n",
    "        i\n",
    "    } \n",
    "}\n",
    "new_counter <- new_counter3()\n",
    "new_counter()"
   ]
  },
  {
   "cell_type": "markdown",
   "metadata": {},
   "source": [
    "#### *Exercise 1* \n",
    "- Create a function that creates functions that compute the ith central mo- ment4 of a numeric vector and then test it with `stopifnot()`."
   ]
  },
  {
   "cell_type": "code",
   "execution_count": 74,
   "metadata": {},
   "outputs": [],
   "source": [
    "x <- runif(100)\n",
    "cntr_mmt <- function(x){\n",
    "    mmt <- function(k){\n",
    "        if (k==1){\n",
    "            mean(x)\n",
    "        } else{\n",
    "            mean((x-mean(x))^k)\n",
    "        }       \n",
    "    }\n",
    "}\n",
    "moment <- cntr_mmt(x)\n",
    "stopifnot(all.equal(moment(2), var(x)*99/100))\n",
    "stopifnot(all.equal(moment(1), mean(x)))"
   ]
  },
  {
   "cell_type": "markdown",
   "metadata": {},
   "source": [
    "#### *Exercise 2* \n",
    "- Create a function `pick()`, that takes an index, i, as an argument and returns a function an argument x that subsets x with i."
   ]
  },
  {
   "cell_type": "code",
   "execution_count": 75,
   "metadata": {},
   "outputs": [
    {
     "data": {
      "text/html": [
       "<dl>\n",
       "\t<dt>$mpg</dt>\n",
       "\t\t<dd>18.7</dd>\n",
       "\t<dt>$cyl</dt>\n",
       "\t\t<dd>8</dd>\n",
       "\t<dt>$disp</dt>\n",
       "\t\t<dd>360</dd>\n",
       "\t<dt>$hp</dt>\n",
       "\t\t<dd>175</dd>\n",
       "\t<dt>$drat</dt>\n",
       "\t\t<dd>3.15</dd>\n",
       "\t<dt>$wt</dt>\n",
       "\t\t<dd>3.44</dd>\n",
       "\t<dt>$qsec</dt>\n",
       "\t\t<dd>17.02</dd>\n",
       "\t<dt>$vs</dt>\n",
       "\t\t<dd>0</dd>\n",
       "\t<dt>$am</dt>\n",
       "\t\t<dd>0</dd>\n",
       "\t<dt>$gear</dt>\n",
       "\t\t<dd>3</dd>\n",
       "\t<dt>$carb</dt>\n",
       "\t\t<dd>2</dd>\n",
       "</dl>\n"
      ],
      "text/latex": [
       "\\begin{description}\n",
       "\\item[\\$mpg] 18.7\n",
       "\\item[\\$cyl] 8\n",
       "\\item[\\$disp] 360\n",
       "\\item[\\$hp] 175\n",
       "\\item[\\$drat] 3.15\n",
       "\\item[\\$wt] 3.44\n",
       "\\item[\\$qsec] 17.02\n",
       "\\item[\\$vs] 0\n",
       "\\item[\\$am] 0\n",
       "\\item[\\$gear] 3\n",
       "\\item[\\$carb] 2\n",
       "\\end{description}\n"
      ],
      "text/markdown": [
       "$mpg\n",
       ":   18.7\n",
       "$cyl\n",
       ":   8\n",
       "$disp\n",
       ":   360\n",
       "$hp\n",
       ":   175\n",
       "$drat\n",
       ":   3.15\n",
       "$wt\n",
       ":   3.44\n",
       "$qsec\n",
       ":   17.02\n",
       "$vs\n",
       ":   0\n",
       "$am\n",
       ":   0\n",
       "$gear\n",
       ":   3\n",
       "$carb\n",
       ":   2\n",
       "\n",
       "\n"
      ],
      "text/plain": [
       "$mpg\n",
       "[1] 18.7\n",
       "\n",
       "$cyl\n",
       "[1] 8\n",
       "\n",
       "$disp\n",
       "[1] 360\n",
       "\n",
       "$hp\n",
       "[1] 175\n",
       "\n",
       "$drat\n",
       "[1] 3.15\n",
       "\n",
       "$wt\n",
       "[1] 3.44\n",
       "\n",
       "$qsec\n",
       "[1] 17.02\n",
       "\n",
       "$vs\n",
       "[1] 0\n",
       "\n",
       "$am\n",
       "[1] 0\n",
       "\n",
       "$gear\n",
       "[1] 3\n",
       "\n",
       "$carb\n",
       "[1] 2\n"
      ]
     },
     "metadata": {},
     "output_type": "display_data"
    }
   ],
   "source": [
    "pick <- function(i){\n",
    "    function(x) x[[i]]\n",
    "}\n",
    "lapply(mtcars, pick(5))"
   ]
  },
  {
   "cell_type": "markdown",
   "metadata": {},
   "source": [
    "- Functions also can be used in a list, and then use `lapply(funs, function(f) f())` to execute."
   ]
  },
  {
   "cell_type": "markdown",
   "metadata": {},
   "source": [
    "> funs <- list(\n",
    "    sum = sum,\n",
    "    mean = mean,\n",
    "    median = median\n",
    ")\n",
    "\n",
    "> lapply(funs, function(f) f(1:10))"
   ]
  },
  {
   "cell_type": "markdown",
   "metadata": {},
   "source": [
    "- If we want to remove `NA` for every function in list, we can write a closure to abstract."
   ]
  },
  {
   "cell_type": "markdown",
   "metadata": {},
   "source": [
    "> lapply(funs, function(f) f(x, na.rm = TRUE))"
   ]
  },
  {
   "cell_type": "markdown",
   "metadata": {},
   "source": [
    "#### *Exercise 3* \n",
    "- Implement a summary function that works like `base::summary()`, but takes a list of functions to use to compute the summary. Modify the function so it returns a closure, making it possible to use it as a function factory."
   ]
  },
  {
   "cell_type": "code",
   "execution_count": null,
   "metadata": {},
   "outputs": [],
   "source": []
  },
  {
   "cell_type": "markdown",
   "metadata": {},
   "source": [
    "#### *Exercise 4* \n",
    "- Create a named list of all base functions. Use `ls()`, `get()` and `is.function()`. Use that list of functions to answer the following questions:\n",
    "– Which base function has the most arguments? \n",
    "– How many base functions have no arguments?"
   ]
  },
  {
   "cell_type": "code",
   "execution_count": 18,
   "metadata": {},
   "outputs": [
    {
     "data": {
      "text/html": [
       "22"
      ],
      "text/latex": [
       "22"
      ],
      "text/markdown": [
       "22"
      ],
      "text/plain": [
       "[1] 22"
      ]
     },
     "metadata": {},
     "output_type": "display_data"
    },
    {
     "data": {
      "text/html": [
       "224"
      ],
      "text/latex": [
       "224"
      ],
      "text/markdown": [
       "224"
      ],
      "text/plain": [
       "[1] 224"
      ]
     },
     "metadata": {},
     "output_type": "display_data"
    }
   ],
   "source": [
    "library(data.table)\n",
    "named.list <- as.data.table(ls(baseenv()))\n",
    "named.list <- named.list[, V2 := lapply(V1, get)\n",
    "    ][, V3 := unlist(lapply(V2, is.function))\n",
    "    ][V3 == TRUE\n",
    "    ][, V4 := lapply(V2, formalArgs)]\n",
    "named.list[, V5 := lapply(V4, length), by = .(V1)\n",
    "    ][, max(V5)]\n",
    "named.list[V5==0, .N]"
   ]
  },
  {
   "cell_type": "markdown",
   "metadata": {},
   "source": [
    "#### *Exercise 5*\n",
    "Which of the following commands is with(x, f(z)) equivalent to?\n",
    "\n",
    "**(a)** x$f(x$z)\n",
    "\n",
    "**(b)** f(x$z)\n",
    "\n",
    "**(c)** x$f(z)\n",
    "\n",
    "**(d)** f(z)\n",
    "\n",
    "Answer : **(c)**"
   ]
  },
  {
   "cell_type": "markdown",
   "metadata": {},
   "source": [
    "#### *Exercise 6* \n",
    "Instead of creating individual fuctions `midpoint()`, `trapezoid()`, `simpson()` etc, we could store them in a list. If we do that, how does the code change? Can you create the list of functions from a list of coefficients for the *Newton-Cotes* formulae?"
   ]
  },
  {
   "cell_type": "code",
   "execution_count": null,
   "metadata": {},
   "outputs": [],
   "source": [
    "newton_cotes <- function(coef, open = FALSE) { \n",
    "    n <- length(coef) + open\n",
    "    function(f, a, b) {\n",
    "        pos <- function(i) a + i * (b - a) / n \n",
    "        points <- pos(seq.int(0, length(coef) - 1))\n",
    "        (b - a) / sum(coef) * sum(f(points) * coef)\n",
    "    } \n",
    "} \n",
    "\n",
    "collection_cotes<- list(\n",
    "    midpoint = newton_cotes(1, open = TURE)\n",
    "    trapezoid = newton_cotes(c(1, 1))\n",
    "    simpson = nweton_cotes(c(1, 4, 1))    \n",
    ")"
   ]
  },
  {
   "cell_type": "markdown",
   "metadata": {},
   "source": [
    "#### *Exercise 7*\n",
    "The tradeoff in integration rules is that more complex rules are slower to compute, but need fewer pieces. For `sin()` in the range [0, pi], determine the number of pieces needed to for each rule to be equally accurate. Illustrate your results with a graph. How do they change for different functions? `sin(1/x^2)` is particularly challenging."
   ]
  },
  {
   "cell_type": "code",
   "execution_count": null,
   "metadata": {},
   "outputs": [],
   "source": []
  },
  {
   "cell_type": "markdown",
   "metadata": {},
   "source": [
    "#### *Exercise 8*\n",
    "For each of the *Newton-Cotes* rules, how many pieces do you need to get within 0.1% of the true answer for `sin()` in the range [0, pi]. Write a function that determines that automatically for any function (hint: look at `optim()` and construct a one-argument function with closures)"
   ]
  },
  {
   "cell_type": "code",
   "execution_count": null,
   "metadata": {},
   "outputs": [],
   "source": []
  }
 ],
 "metadata": {
  "kernelspec": {
   "display_name": "R",
   "language": "R",
   "name": "ir"
  },
  "language_info": {
   "codemirror_mode": "r",
   "file_extension": ".r",
   "mimetype": "text/x-r-source",
   "name": "R",
   "pygments_lexer": "r",
   "version": "3.5.1"
  }
 },
 "nbformat": 4,
 "nbformat_minor": 2
}
