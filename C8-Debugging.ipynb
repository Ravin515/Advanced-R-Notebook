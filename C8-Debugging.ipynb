{
 "cells": [
  {
   "cell_type": "code",
   "execution_count": null,
   "metadata": {},
   "outputs": [],
   "source": [
    "message2error <- function(code) {\n",
    "    withCallingHandlers(code, message = function(e) stop(e))\n",
    "}\n",
    "message2error <- function(code) {\n",
    "    tryCatch(code, message = function(e) stop(e))\n",
    "}"
   ]
  },
  {
   "cell_type": "markdown",
   "metadata": {},
   "source": [
    "Improve the function so that (1) it returns a useful error message if n is not a vector, (2) it has reasonable behaviour when n is 0 or longer than x."
   ]
  },
  {
   "cell_type": "code",
   "execution_count": null,
   "metadata": {},
   "outputs": [],
   "source": [
    "lag <- function(x, n = 1L) {\n",
    "    xlen <- length(x)\n",
    "    c(rep(NA, n), x[seq_len(xlen - n)])\n",
    "} #(1)\n",
    "\n",
    "lag <- function(x, n = 1L) {\n",
    "    stopifnot(is.vector(x))\n",
    "    xlen <- length(x)\n",
    "    if (n > xlen) {\n",
    "        stop(\"The length of lagging is longer than length of vector\")\n",
    "    }\n",
    "    if (n == 0) {\n",
    "        c(x, x)\n",
    "    } \n",
    "    else {\n",
    "        c(rep(NA, n), x[seq_len(xlen - n)])\n",
    "    }\n",
    "} #(2)"
   ]
  }
 ],
 "metadata": {
  "kernelspec": {
   "display_name": "R",
   "language": "R",
   "name": "ir"
  },
  "language_info": {
   "codemirror_mode": "r",
   "file_extension": ".r",
   "mimetype": "text/x-r-source",
   "name": "R",
   "pygments_lexer": "r",
   "version": "3.5.1"
  }
 },
 "nbformat": 4,
 "nbformat_minor": 2
}
